{
  "cells": [
    {
      "cell_type": "markdown",
      "metadata": {
        "id": "view-in-github",
        "colab_type": "text"
      },
      "source": [
        "<a href=\"https://colab.research.google.com/github/YoshidaR3n/YoshidaR3n/blob/main/discord_BOT.ipynb\" target=\"_parent\"><img src=\"https://colab.research.google.com/assets/colab-badge.svg\" alt=\"Open In Colab\"/></a>"
      ]
    },
    {
      "cell_type": "code",
      "execution_count": null,
      "metadata": {
        "colab": {
          "base_uri": "https://localhost:8080/"
        },
        "id": "9muYIDRRUOS1",
        "outputId": "6718c5dc-1b8c-48bb-df0a-280e8d9d68ad"
      },
      "outputs": [
        {
          "name": "stdout",
          "output_type": "stream",
          "text": [
            "Collecting discord.py[voice]\n",
            "  Downloading discord.py-2.4.0-py3-none-any.whl (1.1 MB)\n",
            "\u001b[2K     \u001b[90m━━━━━━━━━━━━━━━━━━━━━━━━━━━━━━━━━━━━━━━━\u001b[0m \u001b[32m1.1/1.1 MB\u001b[0m \u001b[31m8.0 MB/s\u001b[0m eta \u001b[36m0:00:00\u001b[0m\n",
            "\u001b[?25hRequirement already satisfied: aiohttp<4,>=3.7.4 in /usr/local/lib/python3.10/dist-packages (from discord.py[voice]) (3.9.5)\n",
            "Collecting PyNaCl<1.6,>=1.3.0 (from discord.py[voice])\n",
            "  Downloading PyNaCl-1.5.0-cp36-abi3-manylinux_2_17_x86_64.manylinux2014_x86_64.manylinux_2_24_x86_64.whl (856 kB)\n",
            "\u001b[2K     \u001b[90m━━━━━━━━━━━━━━━━━━━━━━━━━━━━━━━━━━━━━━━━\u001b[0m \u001b[32m856.7/856.7 kB\u001b[0m \u001b[31m15.6 MB/s\u001b[0m eta \u001b[36m0:00:00\u001b[0m\n",
            "\u001b[?25hRequirement already satisfied: aiosignal>=1.1.2 in /usr/local/lib/python3.10/dist-packages (from aiohttp<4,>=3.7.4->discord.py[voice]) (1.3.1)\n",
            "Requirement already satisfied: attrs>=17.3.0 in /usr/local/lib/python3.10/dist-packages (from aiohttp<4,>=3.7.4->discord.py[voice]) (23.2.0)\n",
            "Requirement already satisfied: frozenlist>=1.1.1 in /usr/local/lib/python3.10/dist-packages (from aiohttp<4,>=3.7.4->discord.py[voice]) (1.4.1)\n",
            "Requirement already satisfied: multidict<7.0,>=4.5 in /usr/local/lib/python3.10/dist-packages (from aiohttp<4,>=3.7.4->discord.py[voice]) (6.0.5)\n",
            "Requirement already satisfied: yarl<2.0,>=1.0 in /usr/local/lib/python3.10/dist-packages (from aiohttp<4,>=3.7.4->discord.py[voice]) (1.9.4)\n",
            "Requirement already satisfied: async-timeout<5.0,>=4.0 in /usr/local/lib/python3.10/dist-packages (from aiohttp<4,>=3.7.4->discord.py[voice]) (4.0.3)\n",
            "Requirement already satisfied: cffi>=1.4.1 in /usr/local/lib/python3.10/dist-packages (from PyNaCl<1.6,>=1.3.0->discord.py[voice]) (1.16.0)\n",
            "Requirement already satisfied: pycparser in /usr/local/lib/python3.10/dist-packages (from cffi>=1.4.1->PyNaCl<1.6,>=1.3.0->discord.py[voice]) (2.22)\n",
            "Requirement already satisfied: idna>=2.0 in /usr/local/lib/python3.10/dist-packages (from yarl<2.0,>=1.0->aiohttp<4,>=3.7.4->discord.py[voice]) (3.7)\n",
            "Installing collected packages: PyNaCl, discord.py\n",
            "Successfully installed PyNaCl-1.5.0 discord.py-2.4.0\n"
          ]
        }
      ],
      "source": [
        "pip install -U discord.py[voice]"
      ]
    },
    {
      "cell_type": "code",
      "execution_count": null,
      "metadata": {
        "colab": {
          "base_uri": "https://localhost:8080/"
        },
        "id": "hfPz2rZRbT9c",
        "outputId": "53a00fa8-1720-4d79-e268-0fb805589841"
      },
      "outputs": [
        {
          "name": "stdout",
          "output_type": "stream",
          "text": [
            "Requirement already satisfied: google-api-python-client in /usr/local/lib/python3.10/dist-packages (2.84.0)\n",
            "Requirement already satisfied: httplib2<1dev,>=0.15.0 in /usr/local/lib/python3.10/dist-packages (from google-api-python-client) (0.22.0)\n",
            "Requirement already satisfied: google-auth<3.0.0dev,>=1.19.0 in /usr/local/lib/python3.10/dist-packages (from google-api-python-client) (2.27.0)\n",
            "Requirement already satisfied: google-auth-httplib2>=0.1.0 in /usr/local/lib/python3.10/dist-packages (from google-api-python-client) (0.1.1)\n",
            "Requirement already satisfied: google-api-core!=2.0.*,!=2.1.*,!=2.2.*,!=2.3.0,<3.0.0dev,>=1.31.5 in /usr/local/lib/python3.10/dist-packages (from google-api-python-client) (2.16.2)\n",
            "Requirement already satisfied: uritemplate<5,>=3.0.1 in /usr/local/lib/python3.10/dist-packages (from google-api-python-client) (4.1.1)\n",
            "Requirement already satisfied: googleapis-common-protos<2.0.dev0,>=1.56.2 in /usr/local/lib/python3.10/dist-packages (from google-api-core!=2.0.*,!=2.1.*,!=2.2.*,!=2.3.0,<3.0.0dev,>=1.31.5->google-api-python-client) (1.63.2)\n",
            "Requirement already satisfied: protobuf!=3.20.0,!=3.20.1,!=4.21.0,!=4.21.1,!=4.21.2,!=4.21.3,!=4.21.4,!=4.21.5,<5.0.0.dev0,>=3.19.5 in /usr/local/lib/python3.10/dist-packages (from google-api-core!=2.0.*,!=2.1.*,!=2.2.*,!=2.3.0,<3.0.0dev,>=1.31.5->google-api-python-client) (3.20.3)\n",
            "Requirement already satisfied: requests<3.0.0.dev0,>=2.18.0 in /usr/local/lib/python3.10/dist-packages (from google-api-core!=2.0.*,!=2.1.*,!=2.2.*,!=2.3.0,<3.0.0dev,>=1.31.5->google-api-python-client) (2.31.0)\n",
            "Requirement already satisfied: cachetools<6.0,>=2.0.0 in /usr/local/lib/python3.10/dist-packages (from google-auth<3.0.0dev,>=1.19.0->google-api-python-client) (5.3.3)\n",
            "Requirement already satisfied: pyasn1-modules>=0.2.1 in /usr/local/lib/python3.10/dist-packages (from google-auth<3.0.0dev,>=1.19.0->google-api-python-client) (0.4.0)\n",
            "Requirement already satisfied: rsa<5,>=3.1.4 in /usr/local/lib/python3.10/dist-packages (from google-auth<3.0.0dev,>=1.19.0->google-api-python-client) (4.9)\n",
            "Requirement already satisfied: pyparsing!=3.0.0,!=3.0.1,!=3.0.2,!=3.0.3,<4,>=2.4.2 in /usr/local/lib/python3.10/dist-packages (from httplib2<1dev,>=0.15.0->google-api-python-client) (3.1.2)\n",
            "Requirement already satisfied: pyasn1<0.7.0,>=0.4.6 in /usr/local/lib/python3.10/dist-packages (from pyasn1-modules>=0.2.1->google-auth<3.0.0dev,>=1.19.0->google-api-python-client) (0.6.0)\n",
            "Requirement already satisfied: charset-normalizer<4,>=2 in /usr/local/lib/python3.10/dist-packages (from requests<3.0.0.dev0,>=2.18.0->google-api-core!=2.0.*,!=2.1.*,!=2.2.*,!=2.3.0,<3.0.0dev,>=1.31.5->google-api-python-client) (3.3.2)\n",
            "Requirement already satisfied: idna<4,>=2.5 in /usr/local/lib/python3.10/dist-packages (from requests<3.0.0.dev0,>=2.18.0->google-api-core!=2.0.*,!=2.1.*,!=2.2.*,!=2.3.0,<3.0.0dev,>=1.31.5->google-api-python-client) (3.7)\n",
            "Requirement already satisfied: urllib3<3,>=1.21.1 in /usr/local/lib/python3.10/dist-packages (from requests<3.0.0.dev0,>=2.18.0->google-api-core!=2.0.*,!=2.1.*,!=2.2.*,!=2.3.0,<3.0.0dev,>=1.31.5->google-api-python-client) (2.0.7)\n",
            "Requirement already satisfied: certifi>=2017.4.17 in /usr/local/lib/python3.10/dist-packages (from requests<3.0.0.dev0,>=2.18.0->google-api-core!=2.0.*,!=2.1.*,!=2.2.*,!=2.3.0,<3.0.0dev,>=1.31.5->google-api-python-client) (2024.6.2)\n"
          ]
        }
      ],
      "source": [
        "pip install google-api-python-client"
      ]
    },
    {
      "cell_type": "code",
      "execution_count": null,
      "metadata": {
        "colab": {
          "base_uri": "https://localhost:8080/"
        },
        "id": "6vM-nfO-BABn",
        "outputId": "7a75c73d-396c-4868-86e2-d762b1b01737"
      },
      "outputs": [
        {
          "name": "stdout",
          "output_type": "stream",
          "text": [
            "\u001b[2K     \u001b[90m━━━━━━━━━━━━━━━━━━━━━━━━━━━━━━━━━━━━━━━━\u001b[0m \u001b[32m164.2/164.2 kB\u001b[0m \u001b[31m4.1 MB/s\u001b[0m eta \u001b[36m0:00:00\u001b[0m\n",
            "\u001b[2K     \u001b[90m━━━━━━━━━━━━━━━━━━━━━━━━━━━━━━━━━━━━━━━━\u001b[0m \u001b[32m718.3/718.3 kB\u001b[0m \u001b[31m11.8 MB/s\u001b[0m eta \u001b[36m0:00:00\u001b[0m\n",
            "\u001b[?25h"
          ]
        }
      ],
      "source": [
        "!pip install -q -U google-generativeai"
      ]
    },
    {
      "cell_type": "markdown",
      "source": [
        "## youtubeAPIで動画の情報を取得"
      ],
      "metadata": {
        "id": "y00sv_Yxg2W_"
      }
    },
    {
      "cell_type": "code",
      "execution_count": 1,
      "metadata": {
        "id": "t8mRKP8xbW3E"
      },
      "outputs": [],
      "source": [
        "from apiclient.discovery import build   #ライブラリをインポート\n",
        "from google.colab import userdata\n",
        "\n",
        "\n",
        "# youtubeのAPI設定\n",
        "YOUTUBE_API_KEY = userdata.get('YOUTUBE_API_KEY')\n",
        "YOUTUBE_API_SERVICE_NAME = 'youtube'\n",
        "YOUTUBE_API_VERSION = 'v3'\n",
        "\n",
        "youtube = build(\n",
        "    YOUTUBE_API_SERVICE_NAME,\n",
        "    YOUTUBE_API_VERSION,\n",
        "    developerKey=YOUTUBE_API_KEY\n",
        ")"
      ]
    },
    {
      "cell_type": "code",
      "execution_count": null,
      "metadata": {
        "id": "zMSmw_-1bbgL"
      },
      "outputs": [],
      "source": [
        "#動画の情報をとってくる\n",
        "def get_video_info(keyword):\n",
        "    # search settings\n",
        "    youtube_query = youtube.search().list(\n",
        "        part='id,snippet',\n",
        "        q=keyword,\n",
        "        type='video',\n",
        "        maxResults=1,\n",
        "        order='relevance',\n",
        "    )\n",
        "\n",
        "    # execute()で検索を実行\n",
        "    youtube_response = youtube_query.execute()\n",
        "\n",
        "    # 検索結果を取得し、リターンする\n",
        "    return youtube_response.get('items', [])"
      ]
    },
    {
      "cell_type": "markdown",
      "source": [
        "## gemini使用準備"
      ],
      "metadata": {
        "id": "nDCMZ07GgpMx"
      }
    },
    {
      "cell_type": "code",
      "execution_count": null,
      "metadata": {
        "id": "e1JayCnXC2uO"
      },
      "outputs": [],
      "source": [
        "#参考：https://note.com/npaka/n/n166bc3df3abc\n",
        "import pathlib\n",
        "import textwrap\n",
        "import google.generativeai as genai\n",
        "\n",
        "\n",
        "# geminiを使うためのAPIKEY設定\n",
        "GOOGLE_API_KEY=userdata.get('GOOGLE_API_KEY')\n",
        "genai.configure(api_key=GOOGLE_API_KEY)\n",
        "\n",
        "# モデルの準備\n",
        "model = genai.GenerativeModel('gemini-pro')\n",
        "\n",
        "# モデルの読み込み\n",
        "model_v = genai.GenerativeModel('gemini-pro-vision')"
      ]
    },
    {
      "cell_type": "markdown",
      "source": [
        "## discord上で送信された画像をダウンロードする関数\n"
      ],
      "metadata": {
        "id": "ec_6zfQXgbGZ"
      }
    },
    {
      "cell_type": "code",
      "execution_count": null,
      "metadata": {
        "id": "ohsYEm2TQcbl"
      },
      "outputs": [],
      "source": [
        "import urllib.request\n",
        "import imghdr\n",
        "import PIL.Image\n",
        "\n",
        "def tenpu_image_download(url, save_pass):\n",
        "    #添付画像をダウンロード\n",
        "    opener = urllib.request.build_opener()\n",
        "    opener.addheaders = [(\"User-agent\", \"Mozilla/5.0\")]\n",
        "    urllib.request.install_opener(opener)\n",
        "    urllib.request.urlretrieve(url, save_pass)\n",
        "    return\n",
        "\n",
        "def download_image_class(message, save_pass):\n",
        "  url = message.attachments[0].url\n",
        "  tenpu_image_download(url, save_pass)\n",
        "  # jpgに変換して上書き保存\n",
        "  imagetype = imghdr.what(save_pass)\n",
        "\n",
        "  if imagetype == \"png\":\n",
        "    image_convert = PIL.Image.open(save_pass)\n",
        "    image_convert = image_convert.convert(\"RGB\")\n",
        "    image_convert.save(save_pass)"
      ]
    },
    {
      "cell_type": "markdown",
      "source": [
        "## BOT本体の挙動を設定"
      ],
      "metadata": {
        "id": "gkKz16gTgO6m"
      }
    },
    {
      "cell_type": "code",
      "execution_count": null,
      "metadata": {
        "id": "ObFwpYt7UauJ"
      },
      "outputs": [],
      "source": [
        "# インストールした discord.py を読み込む\n",
        "import discord\n",
        "import re #正規表現のためのライブラリ\n",
        "import random\n",
        "import requests\n",
        "import json\n",
        "\n",
        "save_pass = \"/content/drive/MyDrive/tmp.jpg\"\n",
        "\n",
        "TOKEN = userdata.get('BOT_TOKEN')\n",
        "\n",
        "# 接続に必要なオブジェクトを生成\n",
        "client = discord.Client(intents=discord.Intents.all())\n",
        "\n",
        "# 起動時に動作する処理\n",
        "@client.event\n",
        "async def on_ready():\n",
        "    # 起動したらターミナルにログイン通知が表示される\n",
        "    print('ログインしました')\n",
        "\n",
        "# メッセージ受信時に動作する処理\n",
        "@client.event\n",
        "async def on_message(message):\n",
        "  # メッセージ送信者がBotだった場合は無視する\n",
        "     if message.author.bot:\n",
        "         return\n",
        "\n",
        "    # 「!!」から始まる文字列がマッチしなかったら無視する\n",
        "     if message.content:\n",
        "      if re.match(\"/ai.*\", message.content) != None:\n",
        "        zyumon = str(\"次の質問に答えてください。\" + message.content[4:])\n",
        "        ai_response = model.generate_content(zyumon)\n",
        "        response = str(ai_response.text)\n",
        "        await message.channel.send(response)\n",
        "\n",
        "      if re.match(\"/im.*\", message.content) != None:\n",
        "        download_image_class(message, save_pass)\n",
        "        img = PIL.Image.open(\"/content/drive/MyDrive/tmp.jpg\")\n",
        "        ai_response = model_v.generate_content([\"この写真について説明して\",img])\n",
        "        response = ai_response.text\n",
        "        await message.channel.send(response)\n",
        "\n",
        "      if re.match(\"/we .*\", message.content) != None:\n",
        "        res = requests.get(\"https://api.openweathermap.org/data/2.5/weather?q={}&appid=b4a403d67ab7707a58bebf75527a4063&units=metric&lang=ja\".format(message.content[4:]))\n",
        "        res_dict = json.loads(res.text)\n",
        "        data = str(\"天気：\"+res_dict[\"weather\"][0][\"description\"]+\"\\nただ今の気温：\"+str(res_dict[\"main\"][\"temp\"])+\"度\")\n",
        "        await message.channel.send(data)\n",
        "\n",
        "      if re.match(\"/yo .*\", message.content) == None:\n",
        "        return\n",
        "\n",
        "      data = get_video_info(message.content[3:])\n",
        "      for video in data:\n",
        "        result = str(video['snippet']['title']) + \" URL=>https://www.youtube.com/watch?v={}\".format(video['id']['videoId'])\n",
        "        await message.channel.send(result)"
      ]
    },
    {
      "cell_type": "markdown",
      "source": [
        "## 起動"
      ],
      "metadata": {
        "id": "VV7wibZAg91P"
      }
    },
    {
      "cell_type": "code",
      "execution_count": null,
      "metadata": {
        "colab": {
          "background_save": true,
          "base_uri": "https://localhost:8080/",
          "height": 368
        },
        "id": "KeEf8yuWWMq4",
        "outputId": "c22bd9ad-f12d-443b-ce3a-41083e470208"
      },
      "outputs": [
        {
          "name": "stderr",
          "output_type": "stream",
          "text": [
            "\u001b[30;1m2024-07-09 02:22:58\u001b[0m \u001b[34;1mINFO    \u001b[0m \u001b[35mdiscord.client\u001b[0m logging in using static token\n",
            "INFO:discord.client:logging in using static token\n",
            "\u001b[30;1m2024-07-09 02:22:59\u001b[0m \u001b[34;1mINFO    \u001b[0m \u001b[35mdiscord.gateway\u001b[0m Shard ID None has connected to Gateway (Session ID: 19f2963eac152586d843351e7e0d9cef).\n",
            "INFO:discord.gateway:Shard ID None has connected to Gateway (Session ID: 19f2963eac152586d843351e7e0d9cef).\n"
          ]
        },
        {
          "name": "stdout",
          "output_type": "stream",
          "text": [
            "ログインしました\n"
          ]
        },
        {
          "name": "stderr",
          "output_type": "stream",
          "text": [
            "\u001b[30;1m2024-07-09 02:25:47\u001b[0m \u001b[31mERROR   \u001b[0m \u001b[35mdiscord.client\u001b[0m Ignoring exception in on_message\n",
            "\u001b[31mTraceback (most recent call last):\n",
            "  File \"/usr/local/lib/python3.10/dist-packages/discord/client.py\", line 449, in _run_event\n",
            "    await coro(*args, **kwargs)\n",
            "  File \"<ipython-input-8-67a2cff38fee>\", line 47, in on_message\n",
            "    data = str(\"天気：\"+res_dict[\"weather\"][0][\"description\"]+\"\\nただ今の気温：\"+str(res_dict[\"main\"][\"temp\"])+\"度\")\n",
            "KeyError: 'weather'\u001b[0m\n",
            "ERROR:discord.client:Ignoring exception in on_message\n",
            "Traceback (most recent call last):\n",
            "  File \"/usr/local/lib/python3.10/dist-packages/discord/client.py\", line 449, in _run_event\n",
            "    await coro(*args, **kwargs)\n",
            "  File \"<ipython-input-8-67a2cff38fee>\", line 47, in on_message\n",
            "    data = str(\"天気：\"+res_dict[\"weather\"][0][\"description\"]+\"\\nただ今の気温：\"+str(res_dict[\"main\"][\"temp\"])+\"度\")\n",
            "KeyError: 'weather'\n"
          ]
        }
      ],
      "source": [
        "import nest_asyncio\n",
        "\n",
        "nest_asyncio.apply()\n",
        "# Botの起動とDiscordサーバーへの接続\n",
        "client.run(TOKEN)"
      ]
    },
    {
      "cell_type": "markdown",
      "metadata": {
        "id": "xcVv1c4wQnhh"
      },
      "source": []
    }
  ],
  "metadata": {
    "colab": {
      "provenance": [],
      "mount_file_id": "1XrESOcbrNmebQ5tHZWnzz1XrDFtrnMLW",
      "authorship_tag": "ABX9TyNXRZV4cYI8YJxAJbrGvKzF",
      "include_colab_link": true
    },
    "kernelspec": {
      "display_name": "Python 3",
      "name": "python3"
    },
    "language_info": {
      "name": "python"
    }
  },
  "nbformat": 4,
  "nbformat_minor": 0
}